{
 "cells": [
  {
   "cell_type": "code",
   "execution_count": 60,
   "id": "d4a4ea8b",
   "metadata": {},
   "outputs": [
    {
     "name": "stderr",
     "output_type": "stream",
     "text": [
      "C:\\Users\\Tim33\\AppData\\Local\\Temp\\ipykernel_9404\\558488613.py:5: DeprecationWarning: executable_path has been deprecated, please pass in a Service object\n",
      "  driver = webdriver.Chrome('./chromedriver')\n"
     ]
    },
    {
     "name": "stdout",
     "output_type": "stream",
     "text": [
      "https://blog.naver.com/bizspringcokr/222638819175\n"
     ]
    }
   ],
   "source": [
    "from selenium import webdriver\n",
    "\n",
    "# chromedriver\n",
    "# 압축해제한 웹드라이버의 경로와 파일명 지정\n",
    "driver = webdriver.Chrome('./chromedriver')\n",
    "\n",
    "# Load Page\n",
    "# chrome을 띄워 네이버 블로그 페이지를 연다.\n",
    "driver.get(url='https://blog.naver.com/bizspringcokr/222638819175')\n",
    "\n",
    "# 현재 URL을 출력\n",
    "print(driver.current_url)\n",
    "\n",
    "driver.close()"
   ]
  },
  {
   "cell_type": "code",
   "execution_count": 73,
   "id": "7f310f87",
   "metadata": {},
   "outputs": [
    {
     "name": "stderr",
     "output_type": "stream",
     "text": [
      "C:\\Users\\Tim33\\AppData\\Local\\Temp\\ipykernel_9404\\1702308827.py:9: DeprecationWarning: executable_path has been deprecated, please pass in a Service object\n",
      "  driver = webdriver.Chrome('./chromedriver', options=options)\n"
     ]
    },
    {
     "name": "stdout",
     "output_type": "stream",
     "text": [
      "https://blog.naver.com/bizspringcokr/222638819175\n"
     ]
    }
   ],
   "source": [
    "from selenium import webdriver\n",
    "from selenium.webdriver.ie.options import Options\n",
    "\n",
    "# chromedriver\n",
    "options = webdriver.ChromeOptions()\n",
    "options.add_argument('headless') # 화면 출력없이 작동\n",
    "options.add_argument('window-size=1920x1080')\n",
    "options.add_argument(\"disable-gpu\")\n",
    "driver = webdriver.Chrome('./chromedriver', options=options)\n",
    "\n",
    "# Load Page\n",
    "driver.get(url='https://blog.naver.com/bizspringcokr/222638819175')\n",
    "\n",
    "print(driver.current_url)\n",
    "\n",
    "driver.close()"
   ]
  },
  {
   "cell_type": "code",
   "execution_count": 99,
   "id": "1f75b70b",
   "metadata": {
    "scrolled": true
   },
   "outputs": [],
   "source": [
    "# 참고  블로그\n",
    "# https://blog.bizspring.co.kr/%ED%85%8C%ED%81%AC/selenium-%ED%81%AC%EB%A1%A4%EB%9F%AC-%EA%B5%AC%ED%98%84-3%EC%82%AC-%EB%8D%B0%EC%9D%B4%ED%84%B0/"
   ]
  },
  {
   "cell_type": "code",
   "execution_count": 100,
   "id": "177ef729",
   "metadata": {},
   "outputs": [],
   "source": [
    "# from selenium import webdriver\n",
    "# from selenium.webdriver.ie.options import Options\n",
    "\n",
    "# # chromedriver\n",
    "# options = webdriver.ChromeOptions()\n",
    "# options.add_argument('headless')\n",
    "# options.add_argument('window-size=1920x1080')\n",
    "# options.add_argument(\"disable-gpu\")\n",
    "# driver = webdriver.Chrome('./chromedriver', options=options)\n",
    "\n",
    "# # Load Page\n",
    "# driver.get(url='https://blog.naver.com/bizspringcokr/222638819175')\n",
    "\n",
    "\n",
    "# driver.switch_to.frame(\"mainFrame\");\n",
    "\n",
    "# # 공감\n",
    "# print(\"공감\")\n",
    "# sympathy_element = driver.find_element_by_css_selector('div.area_sympathy') \n",
    "# # ffind_element_by_css_selector('div.area_sympathy')  == 구버전\n",
    "# # 셀레늄 버전이 업데이트되면서 사라졌고 지금은 driver.find_element(By.CLASS_NAME,'area_sympathy') 으로 사용해야 가능.\n",
    "# em_elements = sympathy_element.find_elements_by_css_selector(\"em.u_cnt._count\")\n",
    "# for i, em in enumerate(em_elements):\n",
    "#     print(\"  L\", i, \"번째 em:\", em.text)\n",
    "\n",
    "# # 댓글\n",
    "# print(\"댓글\")\n",
    "# comment_elements = driver.find_element_by_css_selector('div.area_comment')\n",
    "# em_elements = comment_elements.find_elements_by_css_selector(\"#floating_bottom_commentCount\")\n",
    "# for i, em in enumerate(em_elements):\n",
    "#     print(\"  L\",i, \"번째 em:\", em.text)\n",
    "\n",
    "# driver.close()"
   ]
  },
  {
   "cell_type": "markdown",
   "id": "2e644483",
   "metadata": {},
   "source": [
    "### find_element_by_css_selector('div.area_sympathy')  == 구버전\n",
    "### 셀레늄 버전이 업데이트되면서 사라졌고 지금은 driver.find_element(By.CLASS_NAME,'area_sympathy') 으로 사용해야 가능."
   ]
  },
  {
   "cell_type": "code",
   "execution_count": 98,
   "id": "24e3dd48",
   "metadata": {},
   "outputs": [
    {
     "name": "stderr",
     "output_type": "stream",
     "text": [
      "C:\\Users\\Tim33\\AppData\\Local\\Temp\\ipykernel_9404\\1980398505.py:10: DeprecationWarning: executable_path has been deprecated, please pass in a Service object\n",
      "  driver = webdriver.Chrome('./chromedriver', options=options)\n"
     ]
    },
    {
     "name": "stdout",
     "output_type": "stream",
     "text": [
      "공감\n",
      "  L 0 번째 em: \n",
      "  L 1 번째 em: 3\n",
      "댓글\n",
      "  L 0 번째 em: 2\n"
     ]
    }
   ],
   "source": [
    "from selenium import webdriver\n",
    "from selenium.webdriver.common.by import By\n",
    "from selenium.webdriver.ie.options import Options\n",
    "\n",
    "# chromedriver\n",
    "options = webdriver.ChromeOptions()\n",
    "options.add_argument('headless')\n",
    "options.add_argument('window-size=1920x1080')\n",
    "options.add_argument(\"disable-gpu\")\n",
    "driver = webdriver.Chrome('./chromedriver', options=options)\n",
    "\n",
    "# Load Page\n",
    "driver.get(url='https://blog.naver.com/bizspringcokr/222638819175')\n",
    "\n",
    "# 실제 페이지는 \"https://blog.naver.com/PostView.naver?blogId=bizspringcokr&logNo=222638819175&redirect=Dlog&widgetTypeCall=true&directAccess=false\"\n",
    "# iframe으로 호출된다.\n",
    "driver.switch_to.frame(\"mainFrame\");\n",
    "\n",
    "# 공감\n",
    "print(\"공감\")\n",
    "sympathy_element = driver.find_element(By.CLASS_NAME,'area_sympathy')\n",
    "em_elements = sympathy_element.find_elements(By.CSS_SELECTOR, \"em.u_cnt._count\")\n",
    "for i, em in enumerate(em_elements):\n",
    "    print(\"  L\", i, \"번째 em:\", em.text)\n",
    "\n",
    "# 댓글\n",
    "print(\"댓글\")\n",
    "comment_elements = driver.find_element(By.CSS_SELECTOR, 'div.area_comment')\n",
    "em_elements = comment_elements.find_elements(By.CSS_SELECTOR,\"#floating_bottom_commentCount\")\n",
    "for i, em in enumerate(em_elements):\n",
    "    print(\"  L\",i, \"번째 em:\", em.text)\n",
    "\n",
    "driver.close()"
   ]
  },
  {
   "cell_type": "markdown",
   "id": "7c938597",
   "metadata": {},
   "source": [
    "### DeprecationWarning: executable_path has been deprecated, please pass in a Service object\n",
    "### 해당 오류는 버전이 안맞아서 발생 ==> 1. 셀레늄 최신버전으로 코딩, 2. 구버전 셀레늄 설치 "
   ]
  },
  {
   "cell_type": "code",
   "execution_count": null,
   "id": "35ebab64",
   "metadata": {},
   "outputs": [],
   "source": []
  },
  {
   "cell_type": "code",
   "execution_count": null,
   "id": "c9ed4dcd",
   "metadata": {},
   "outputs": [],
   "source": []
  }
 ],
 "metadata": {
  "kernelspec": {
   "display_name": "envs",
   "language": "python",
   "name": "envs"
  },
  "language_info": {
   "codemirror_mode": {
    "name": "ipython",
    "version": 3
   },
   "file_extension": ".py",
   "mimetype": "text/x-python",
   "name": "python",
   "nbconvert_exporter": "python",
   "pygments_lexer": "ipython3",
   "version": "3.8.16"
  }
 },
 "nbformat": 4,
 "nbformat_minor": 5
}
